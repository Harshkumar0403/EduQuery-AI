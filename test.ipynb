{
 "cells": [
  {
   "cell_type": "code",
   "execution_count": 1,
   "metadata": {},
   "outputs": [
    {
     "data": {
      "text/plain": [
       "True"
      ]
     },
     "execution_count": 1,
     "metadata": {},
     "output_type": "execute_result"
    }
   ],
   "source": [
    "import os\n",
    "from dotenv import load_dotenv\n",
    "load_dotenv()\n"
   ]
  },
  {
   "cell_type": "code",
   "execution_count": 2,
   "metadata": {},
   "outputs": [],
   "source": [
    "GOOGLE_API_KEY=os.getenv(\"GOOGLE_API_KEY\")\n"
   ]
  },
  {
   "cell_type": "code",
   "execution_count": 4,
   "metadata": {},
   "outputs": [],
   "source": [
    "from llama_index.core import VectorStoreIndex, SimpleDirectoryReader\n",
    "documents=SimpleDirectoryReader(\"data\").load_data()"
   ]
  },
  {
   "cell_type": "code",
   "execution_count": 11,
   "metadata": {},
   "outputs": [],
   "source": [
    "import google.generativeai as genai\n",
    "\n",
    "genai.configure(api_key=GOOGLE_API_KEY)\n",
    "model = genai.GenerativeModel(\"gemini-1.5-flash\")\n"
   ]
  },
  {
   "cell_type": "code",
   "execution_count": 32,
   "metadata": {},
   "outputs": [],
   "source": [
    "import os\n",
    "import PyPDF2\n",
    "from langchain_google_genai import GoogleGenerativeAIEmbeddings, ChatGoogleGenerativeAI\n",
    "from langchain.vectorstores import Chroma\n",
    "from langchain.chains import RetrievalQA\n",
    "from langchain.chains.question_answering import load_qa_chain\n",
    "\n",
    "# Step 1: Parse the PDF\n",
    "def parse_pdf(file_path):\n",
    "    with open(file_path, 'rb') as f:\n",
    "        reader = PyPDF2.PdfReader(f)\n",
    "        text = \"\"\n",
    "        for page in reader.pages:\n",
    "            text += page.extract_text()\n",
    "    return text\n",
    "\n",
    "# Step 2: Initialize the embedding model (GoogleGenerativeAIEmbeddings)\n",
    "embeddings = GoogleGenerativeAIEmbeddings(model=\"models/embedding-001\")\n",
    "\n",
    "# Step 3: Prepare the document text (from the PDF)\n",
    "document_text = parse_pdf(\"data/Analytics_vidya_courses.pdf\")  # Path to your PDF file\n",
    "\n",
    "# Step 4: Generate embeddings for the document text using the GoogleGenerativeAIEmbeddings\n",
    "vector = embeddings.embed_query(document_text)\n",
    "\n",
    "# Step 5: Store embeddings in a Chroma vector store\n"
   ]
  },
  {
   "cell_type": "code",
   "execution_count": 34,
   "metadata": {},
   "outputs": [],
   "source": [
    "from langchain.docstore.document import Document# Here, vector is the embedding for the entire document\n",
    "document = Document(page_content=document_text)\n",
    "\n",
    "# Step 5: Manually store embeddings in a Chroma vector store\n",
    "# Assuming the vector is a list of embeddings, and you want to store them.\n",
    "vector_store = Chroma.from_documents(\n",
    "    [document],  # Document list\n",
    "    embedding=embeddings,  # Embedding model\n",
    "    persist_directory=\"./persisted_vector_store\"  # Specify directory to persist vectors\n",
    ")"
   ]
  },
  {
   "cell_type": "code",
   "execution_count": 37,
   "metadata": {},
   "outputs": [
    {
     "data": {
      "text/plain": [
       "Document(metadata={}, page_content='LLM  \\n1. Framework to Choose the Right \\nLLM for your Business  \\n \\nCourse Description  \\nThis course will guide you through the process of selecting the most suitable Large Language \\nModel (LLM) for various business needs. By examining factors such as accuracy, cost, \\nscalability, and integration, you will understand how different LLMs perform in specific \\nscenarios, from customer support to healthcare and strategy development. The course \\nemphasizes practical decision -making with real -world case studies, helping business es \\nnavigate the rapidly evolving LLM landscape effectively.  \\n \\nWho should Enroll?  \\n\\uf0b7 Business leaders seeking to implement AI -driven solutions efficiently.  \\n\\uf0b7 Data scientists exploring LLMs for industry -specific applications.  \\n\\uf0b7 Tech professionals involved in AI inte gration and decision -making processes.  \\nKey Takeaways  \\n\\uf0b7 Understand how to evaluate and select the right LLM for business needs.  \\n\\uf0b7 Learn to assess LLMs based on accuracy, cost, scalability, and integration.  \\n\\uf0b7 Gain insights into real -world LLM applications through case studies.  \\n\\uf0b7 Develop practical decision -making skills for LLM adoption in various industries.   \\n \\n2. Improving Real World RAG Systems: Key \\nChallenges & Practical Solutions  \\nCourse Description  \\nThis course explores the key challenges in building real -world Ret rieval -Augmented Generation \\n(RAG) systems and provides practical solutions. Topics include improving data retrieval, dealing \\nwith hallucinations, context selection, and optimizing system performance using advanced \\nprompting, retrieval strategies, and evalu ation techniques. Through hands -on demos, you will \\ngain insights into better chunking, embedding models, and agentic RAG systems for more \\nrobust, real -world applications.  \\nWho should Enroll?  \\uf0b7 AI/ML professionals aiming to enhance RAG system performance and s olve real -world \\nchallenges.  \\n\\uf0b7 Developers/Engineers building search, conversational, or generative AI systems needing \\nbetter data retrieval and context handling.  \\n\\uf0b7 Researchers/Enthusiasts seeking hands -on experience with advanced RAG techniques \\nand agentic systems.  \\nKey Takeaways  \\n\\uf0b7 Master RAG systems with a solid grasp of architecture and components.  \\n\\uf0b7 Solve key challenges like missing content and hallucinations.  \\n\\uf0b7 Optimize performance with advanced chunking and retrieval strategies.  \\n\\uf0b7 Develop practical decision -maki ng skills for LLM adoption in various industries.  \\n3. A Comprehensive Learning Path to \\nBecome a Data Analyst in 2025  \\nAbout the course  \\nWhere do I begin? Data Analyst is such a huge field - where do you even start learning about \\nData Analyst?  \\nThese are career -defining questions often asked by data analyst aspirants. There are a million \\nresources out there to refer but the learning journey can be quite exhausting if you don ’t know \\nwhere to start.  \\nDon’t worry, we are here to help you take your first steps into t he world of data analytics! \\nHere ’s the learning path for people who want to become a data analyst in 2025. We have \\narranged and compiled all the best resources in a structured manner so that you have a unified \\nresource to become a successful data analyst.  \\nMoreover, we have added the most in -demand skills for the year 2025 for data analyst along \\nwith exercises and assignments  \\n \\n4. Reimagining GenAI: Common Mistakes \\nand Best Practices for Success  Course Description  \\nGenerative AI is transforming industries, but  implementation challenges often hinder its \\nsuccess. This course, led by experienced GenAI expert Shabazz Mohammed, dives deep into the \\npitfalls of adopting generative AI and provides actionable best practices to overcome them.  \\nLearn from real -world scenar ios, understand why hi -fi demos fail in production, and gain \\ninsights into scalable, ethical, and ROI -driven AI adoption.  \\nKey Takeaways  \\n\\uf0b7 Learn to identify and mitigate risks such as biased outputs, inefficiencies in resource \\nusage, and ethical concerns, ens uring smooth and responsible deployment of GenAI \\nsolutions.  \\n\\uf0b7 Gain actionable insights into creating frameworks that align AI capabilities with \\norganizational goals, enhancing productivity and delivering measurable business \\noutcomes.  \\n\\uf0b7 Build hands -on expertise  in using Generative AI effectively while maintaining data \\nprivacy, model explainability, and user trust through ethical and secure practices.  \\n5. Coding a ChatGPT -style Language Model \\nfrom Scratch in PyTorch  \\nCourse Description  \\nMaster the art of building a ChatGPT -style language model from scratch with PyTorch.  In this \\ncourse, you\\'ll explore essential NLP concepts, implement transformers, and create a decoder -\\nonly architecture step -by-step. Guided by expert tutorials, gain practical skills to develop \\nadvance d AI models tailored for real -world applications.  \\nKey Takeaways  \\n\\uf0b7 Understand transformer fundamentals with step -by-step guidance, including masked \\nself-attention and position encoding.  \\n\\uf0b7 Build and train models using PyTorch, focusing on practical coding skills  for NLP .  \\n\\uf0b7 Create a fully functional ChatGPT -style language model from scratch, ready for real -\\nworld use.  6. Mastering Multilingual GenAI Open -\\nWeights for Indic Languages  \\nCourse Description  \\nMastering Multilingual GenAI – Open -Weights for Indic Languages\"  is a course designed to \\nequip you with the knowledge to develop state -of-the-art multilingual AI models using open -\\nweight architectures. Focusing on low -resource languages, particularly Indic languages, the \\ncourse covers essential topics like multilingual AI  training, instruction fine -tuning, model \\nbuilding, and performance evaluation.  \\nKey Takeaways  \\n\\uf0b7 Learn to create AI models for diverse languages, focusing on low -resource ones.  \\n\\uf0b7 Get hands -on experience with cutting -edge models and multilingual data.  \\n\\uf0b7 Implement strategies for safer, unbiased AI models in global applications.  \\n7. Learning Autonomous Driving Behaviors \\nwith LLMs & RL  \\nCourse Description  \\nThis course dives into the development of autonomous driving behaviors using Reinforcement \\nLearning (RL) and Large Language Models (LLMs). You ’ll explore how RL agents are trained to \\nnavigate complex, real -world environments while making safe, human -like driving decisions. The \\ncourse tackles key challenges such as designing effective reward systems, ensuring safety in \\nhigh -speed driving scenarios, and improving the interpretability of AI decisions. Through \\npractical projects, you will design RL agents using techniques like Deep Q -Networks (DQN), \\nexperience replay, and integrate LLMs to enhance decision -making.  \\nKey Takea ways  \\n\\uf0b7 Learn how to train RL agents for safe, human -like autonomous driving behavior.  \\n\\uf0b7 Understand how LLMs enhance decision -making and interpretability in AI systems.  \\n\\uf0b7 Gain practical experience in designing and applying reward functions for real -world \\nautonomo us environments.  8. GenAI Applied to Quantitative Finance: \\nFor Control Implementation  \\nImplementation  \\nThis course explores the application of Generative AI in quantitative finance, focusing on \\nbuilding sustainable trading algorithms through keyword extracti on, sentiment analysis, and \\ntime -series forecasting. Learn to predict commodity prices, such as gold, by integrating data \\nfrom financial news sources, leveraging sentiment analysis, and optimizing models for robust \\ntrading signals.  \\nKey Takeaways from this Course  \\n\\uf0b7 Learn how to apply advanced AI techniques to convert textual data, such as news \\narticles, into actionable trading signals for predicting commodity prices.  \\n\\uf0b7 Understand the importance of a well -structured architecture that includes robust \\nkeyword extra ction, sentiment mining, graph generation, and time series forecasting to \\ndrive predictive accuracy.  \\n\\uf0b7 Explore opportunities for further improvements, such as integrating large language \\nmodels (LLMs), enhancing robustness, and achieving full automation in tr ading signal \\ngeneration.  \\n9. Navigating LLM Tradeoffs: Techniques for \\nSpeed, Cost, Scale & Accuracy  \\nCourse Description  \\nThis course provides a concise guide to optimizing Large Language Models (LLMs) by navigating \\ntradeoffs in speed, cost, scale, and accuracy. Learn practical techniques like LoRA, model \\nquantization, and parameter -efficient fine -tuning to improve performanc e while reducing costs. \\nYou\\'ll explore various deployment strategies and understand how to evaluate LLMs using \\nindustry -standard benchmarks, making this course ideal for anyone seeking efficient, scalable AI \\nsolutions.  \\nKey Takeaways  \\n\\uf0b7 Optimize LLM Tradeoffs:  Master techniques to balance speed, cost, scale, and accuracy \\nfor LLMs.  \\uf0b7 Efficient Fine -Tuning: Use LoRA to train large models with less compute while \\nmaintaining performance.  \\n\\uf0b7 Model Quantization: Reduce memory use and boost inference speed with 8 -bit/4 -bit \\nquantization.  \\n\\uf0b7 LLM Evaluation Metrics: Assess models with ROUGE, BLEU, and benchmark tools like \\nHuggingFace Leaderboard.  \\n\\uf0b7 Inference Optimization: Multi -LoRA, Improve efficiency with KV caching and Flash \\nattention for faster results.  \\n10. Building Your first RAG System using \\nLlamaIndex - Free Course  \\nBuilding Your First RAG Model using LlamaIndex  \\nThis course will guide you  through building your first Retrieval -Augmented Generation (RAG) \\nsystem  using LlamaIndex.  You will start with data ingestion by loading a fi le into the system, \\nfollowed by indexing the data for efficient retrieval. Next, you will set up retrieval configurations \\nand use a response synthesizer to combine data into a coherent response. Finally, you will \\nemploy a query engine to generate responses . By the end of this course, you will have a solid \\nunderstanding of these processes and be able to build an RAG system using LlamaIndex code \\neffectively.  \\nKey Takeaways from the course  \\n\\uf0b7 Learn the steps involved in building a RAG system using Llamaindex.  \\n\\uf0b7 Hand s-On Experience: Engage with exercises designed to reinforce your learning and \\napply concepts in real -world scenarios.  \\n11. Nano Course: Building Large Language \\nModels for Code  \\nNano Course: Building Large Language Models for Code  \\nIn this Free Nano GenAI Cou rse on  Building Large Language Models for Code , you will - \\n\\uf0b7 Learn how to train LLMs for Code from Scratch covering Training Data Curation, Data \\nPreparation, Model Architecture, Training, and Evaluation Frameworks.  \\uf0b7 Explore each step in -depth, delving into the  algorithms and techniques used to create \\nStarCoder, a 15B code generation model trained on 80+ programming languages.  \\n\\uf0b7 Understand and learn the best practices to train your own StarCoder on the data  \\nNLP (Natural Language \\nProcessing)  \\n1. Building a Text Clas sification Model with \\nNatural Language Processing - Free Course  \\nIntroduction to Natural Language Processing with PyTorch  \\nGain practical insights into Natural Language Processing (NLP) with our comprehensive course. \\nLearn to build NLP models using PyTorch, delve into classification models, and apply techniques \\nlike bag -of-words, count vectorizer and so on. Perfect for professionals seeking to enhance their \\nskills and aspiring students entering the tech industry.  \\n \\nWho Should Enroll:  \\n\\uf0b7 Professionals:  Expand your skill set with NLP for real -world applications in diverse \\nindustries.   \\n\\uf0b7 Aspiring Students:  Master text data analysis and kickstart your career in AI and NLP .  \\nKey Takeaways from the course  \\n\\uf0b7 Acquire practical skills in building NLP models using Py Torch  \\n\\uf0b7 Career Readiness: Prepare to apply NLP across industries, equipping yourself for roles in \\ndata science, AI, and text analysis with hands -on exercises.  \\n2. Exploring Natural Language Processing \\n(NLP) using Deep Learning  \\nBeyond Traditional Natural Langu age Processing (NLP) - Master NLP using Deep Learning in \\nPyTorch  Natural Language Processing (NLP) is the hottest field in the data science space right now. The \\ndemand for NLP experts and data scientists is through the roof.  \\nWe have seen a remarkable rise in the amount of research and breakthroughs in NLP recently. \\nWe can trace this recent rise to one (seismic) paper – “Attention is All You Need ” by Google AI. \\nThis breakthrough has spawned so many new and exciting NLP libraries that enable us to work \\nwith t ext in ways that were previously limited to our imagination (or Hollywood).  \\nThese NLP deep learning developments have spawned some mind -boggling applications. We ’re \\nsure you ’ve already interacted with and used some of them yourself:  \\n\\uf0b7 Human -level chatbots (d ialogue systems like Google Duplex and Meena)  \\n\\uf0b7 Text generation (Machines writing text from scrtach, such as OpenAI ’s GPT -2 model)  \\n \\nHere ’s a quick list of the latest Natural Language Processing concepts in deep learning every NLP \\nexpert and even enthusiast s hould know:  \\n\\uf0b7 Language Modeling  \\n\\uf0b7 Sequence -to-Sequence Modeling  \\n\\uf0b7 Attention Mechanism  \\n\\uf0b7 Transformer Architecture  \\n\\uf0b7 Transfer Learning in NLP , and much more!  \\n \\nThese are key NLP deep learning concepts you should master if you want to successfully \\nnavigate through the N LP goldmine.  \\n3. Introduction to Natural Language \\nProcessing  \\nIntroduction to Natural Language Processing (NLP)  \\nNatural Language Processing is the art of extracting information from unstructured text. Learn \\nbasics of Natural Language Processing, Regular Expr essions & text sentiment analysis using \\nmachine learning in this course.  \\n4. Learn Swift for Data Science  Your Guide to Learning Swift for Data Science from Scratch  \\nhe Swift programming language is quickly becoming the language of choice for a lot of data \\nscience experts and professionals. Swift ’s flexibility, ease of use, excellent documentation, and \\nquick execution speed are key reasons behind the language ’s recent prominence in the data \\nscience space.  \\nSwift is a more efficient, stable and secure programm ing language as compared to Python. In \\nfact, Swift is also a good language to build for mobile. In fact, it ’s the official language for \\ndeveloping iOS applications for the iPhone!  \\n5. Data Science Hacks, Tips and Tricks  \\nDo you want to write more efficient P ython code? Want to become a better programmer? How \\nabout speeding up your data science tasks? This Data Science Hacks, Tips and Tricks course is for \\nyou!  \\nThe Data Science Hacks, Tips and Tricks course is your one stop destination to become a better \\nand mo re efficient data scientist!  \\nWe have poured in our decades of experience with data science and programming (especially \\nPython programming!), to provide you with time -saving hacks related to:  \\n1. Python tips and tricks  \\n2. Data exploration tips and tricks  \\n3. Data prep rocessing hacks  \\n4. Efficient use of Jupyter notebooks  \\n5. Python functions  \\n6. Building predictive models (hacks to build machine learning models in no time!),  \\nComputer Vision(CV)  \\n1. Building Your First Computer Vision \\nModel - Free Course  \\nIntroduction to Computer Vis ion using PyTorch  This course will help you gain a deep understanding of Computer Vision and build advanced CV \\nmodels using the PyTorch framework. With a carefully curated list of resources and exercises, \\nthis course is your guide to becoming a Computer Vi sion expert. Master the techniques to build \\nconvolutional neural networks, and classify images.  \\nWho Should Enroll:  \\n\\uf0b7 Professionals: Individuals looking to expand their skill set and leverage CV across \\ndifferent industries.  \\n\\uf0b7 Aspiring Students: For those settin g out on their journey to master image data analysis \\nand leave a mark in the tech world.  \\nKey Takeaways from the course  \\n\\uf0b7 Learn Computer Vision techniques and build real -world CV Models.  \\n\\uf0b7 Hands -On Experience: Engage with exercises designed to reinforce your le arning and \\napply concepts in real -world scenarios.  \\n2. A Comprehensive Learning Path to \\nBecome a Data Scientist in 2024  \\nAbout the course  \\nWhere do I begin? Data science is such a huge field - where do you even start learning about \\nData Science?  \\nThese are career -defining questions often asked by data science aspirants. There are a million \\nresources out there to refer but the learning journey can be quite exhausting if you don ’t know \\nwhere to start.  \\nDon’t worry, we are here to help you take your first steps into the world of data science! Here ’s \\nthe learning path for people who want to become a data scientist in 2023. We have arranged \\nand compiled all the best resources in a structured manner so that you have a unified resource \\nto become a successful data sci entist.  \\nMoreover, we have added the most in -demand skills for the year 2023 for data scientists \\nincluding storytelling, model deployment, and much more along with exercises and \\nassignments.  \\nKey takeaways of this course  \\nThe course is ideal for beginners in the field of Data Science. Several features which make it \\nexciting are:  \\uf0b7 Beginner friendly course : This is a beginner -friendly course and has no prerequisites.  \\n\\uf0b7 Curated list of resources to follow : All the necessary topics are covered in the course, in \\nan or derly manner with links to relevant resources and hackathons.  \\n\\uf0b7 Updated skillset for 2023 : The knowledge of Machine Learning models is important but \\nthat won ’t set you apart. We have included some of the top unique skills you ’ll require \\nto become a data scie ntist in 2023.  \\n\\uf0b7 Assignments to test yourself : What ’s the best way to test your knowledge? Each module \\ncomes with assignments and MCQs to give your memory a boost.  \\n3. Getting Started with Neural Networks  \\nIntroduction to Neural Networks  \\nWhat is a neural netwo rk? How does it work? What does a neural network do? Learn neural \\nnetworks for free in this course and get your neural network questions answered, including \\napplications of neural networks in deep learning.  \\n4. GenAI Applied to Quantitative Finance: \\nFor Con trol Implementation  \\nGenAI Applied to Quantitative Finance: For Control Implementation  \\nThis course explores the application of Generative AI in quantitative finance, focusing on \\nbuilding sustainable trading algorithms through keyword extraction, sentiment a nalysis, and \\ntime -series forecasting. Learn to predict commodity prices, such as gold, by integrating data \\nfrom financial news sources, leveraging sentiment analysis, and optimizing models for robust \\ntrading signals.  \\nKey Takeaways from this Course  \\n\\uf0b7 Learn ho w to apply advanced AI techniques to convert textual data, such as news \\narticles, into actionable trading signals for predicting commodity prices.  \\n\\uf0b7 Understand the importance of a well -structured architecture that includes robust \\nkeyword extraction, sentimen t mining, graph generation, and time series forecasting to \\ndrive predictive accuracy.  \\n\\uf0b7 Explore opportunities for further improvements, such as integrating large language \\nmodels (LLMs), enhancing robustness, and achieving full automation in trading signal \\ngeneration.  Machine Learning  \\n1. Machine Learning Summer Training  \\n What is Machine Learning Summer Training?  \\nIf you are a college student and looking for summer training, then you are at the right place \\nwhere Analytics Vidhya is providing its virtual training  along with the mega hackathon for \\nstudents all over the world to compete, win grand rewards and internship opportunities.  \\nMachine Learning Summer Training is an online program to build and enhance your \\nprogramming and machine learning skills, led by the b est industry experts and data science \\nprofessionals. After completing this training you will be provided with a blockchain enabled \\ncertificate by Analytics Vidhya with lifetime validity.  \\nThis is the perfect starting point to ignite your fledging machine le arning career and take a \\nHUGE step towards your dream data scientist role.  \\n2. The A to Z of Unsupervised ML - Free \\nCourse  \\nWhy Unsupervised Machine Learning?  \\nUnsupervised machine learning helps uncover hidden patterns and structures in data without \\nlabeled examples. It is essential for exploratory data analysis, reducing dimensionality, and \\ndiscovering intrinsic relationships within datasets. Mastering unsupervised techniques enhances \\ndata preprocessing and drives insights in complex datasets where labels ar e scarce or \\nunavailable.  \\nKey Takeaways from the course  \\n\\uf0b7 Learn machine learning techniques and build real -world Unsupervised ML Models.  \\n\\uf0b7 Hands -On Experience: Engage with exercises designed to reinforce your learning and \\napply concepts in real -world scenarios.  \\n3. Machine Learning Certification Course \\nfor Beginners  What is Machine Learning?  \\nMachine Learning is the science of teaching machines how to learn by themselves. Machine \\nLearning is reshaping and revolutionizing the world and disrupting industries and job  functions \\nglobally.   \\nMachine learning is so extensive that you probably use it numerous times a day without \\nknowing it. From unlocking your mobile phones using your face to giving your attendance using \\na biometric machine, machine learning is being used i n almost every stage.   \\nIn this age of machine learning, every aspiring data scientist is expected to upskill themselves in \\nmachine learning techniques & tools and apply them to real -world business prob  \\nProjects covered in this course  \\n1. Customer Churn Pred iction  \\nA Bank wants to take care of customer retention for their product: savings accounts. The bank \\nwants you to identify customers likely to churn balances below the minimum balance in the \\nnext quarter. You have the customers information such as age, gen der, demographics along with \\ntheir transactions with the bank. Your task as a data scientist would be to predict the propensity \\nto churn for each customer.  \\n4. Getting started with Decision Trees  \\nWhat is a Decision Tree?  \\nA Decision Tree is a flowchart like structure, where each node represents a decision, each \\nbranch represents an outcome of the decision, and each terminal node provides a prediction / \\nlabel.  \\n \\nWhy learn about Decision Trees?  \\n\\uf0b7 Decision Trees are the most widely and commonly used machine learnin g algorithms.  \\n\\uf0b7 Decision Trees can be used for solving both classification as well as regression problems.  \\n\\uf0b7 Decision Trees are robust to Outliers, so if you have Outliers in your data - you can still \\nbuild Decision Tree models without worrying about impact of  Outliers on your model.  \\n\\uf0b7 Decision Trees are easy to interpret and hence have multiple applications in different \\nindustries.  5. Loan Prediction Practice Problem (Using \\nPython)  \\nAbout the course  \\nThis course is designed for people who want to solve binary clas sification problems. \\nClassification is a skill every Data Scientist should be well versed in.  \\nIn this course, we are solving a real life  case study of Dream Housing Finance. The company \\ndeals in all home loans. They have a presence across all urban, semi -urban and rural areas. \\nCustomers first apply for a home loan after that company validates the customer\\'s eligibility. \\nThe company wants t o automate the loan eligibility process (real -time) based on customer \\ndetail provided while filling online application form.  \\nBy the end of the course, you will have a solid understanding of Classification problem and \\nVarious approaches to solve the probem  \\n6. Twitter Sentiment Analysis  \\nWhat is Sentiment Analysis?  \\n\\uf0b7 Sentiment Analysis or Opinion Mining is a technique used to analyse the emotion in a \\ntext. We can extract the attitude or the opinion of a piece of text and get insights on it.   \\n\\uf0b7 In the context of ma chine learning, you can think of Sentiment Analysis as a \\nClassification problem where the text can either have a positive sentiment, a negative \\nsentiment or a neutral one.  \\nCan I add this project to my resume and use it in my Interview?  \\n\\uf0b7 Sentiment Analysis i s one of the most popular applications of Machine Learning and \\nClassification in Natural language processing  \\n\\uf0b7 We also encourage you to take up more diverse datasets and apply sentiment analysis \\non them.  \\n\\uf0b7 Sentiment Analysis is also one of the first projects y ou would learn in your Natural \\nlanguage processing journey and as such is commonly asked in interviews.  \\n7. Ensemble Learning and Ensemble \\nLearning Techniques  A Comprehensive Course on Ensemble Learning  \\nEnsemble learning is a powerful machine learning algor ithm that is used across industries by \\ndata science experts. The beauty of ensemble learning techniques is that they combine the \\npredictions of multiple machine learning models.  \\n  \\nYou must have used or come across several of these ensemble learning techniq ues in your \\nmachine learning journey:  \\n- Bagging  \\n- Boosting  \\n- Stacking  \\n- Blending, etc.  \\n  \\nThese ensemble learning techniques include popular machine learning algorithms such as \\nXGBoost, Gradient Boosting, among others. You must be getting a good idea of how  vast and \\nuseful ensemble learning can be!  \\nWho is the Ensemble Learning and Ensemble Learning Techniques Course for?  \\nThis course is designed for anyone who:  \\n\\uf0b7 Wants to learn about Ensemble Learning in Machine Learning  \\n\\uf0b7 Wants to expand their current machine le arning skillset  \\n\\uf0b7 Is a newcomer to Machine Learning  \\n\\uf0b7 Is looking to ace machine learning hackathons  \\n\\uf0b7 Is passionate about machine learning!  \\n8. K-Nearest Neighbors (KNN) Algorithm in \\nPython and R  \\nLearn all about the K -Nearest Neighbor (KNN) Algorithm in Machine L earning  \\nK-Nearest Neighbor (KNN) is one of the most popular machine learning algorithms. As a \\nnewcomer or beginner in machine learning, you ’ll find KNN to be among the easiest algorithms \\nto pick up.  \\nAnd despite its simplicity, KNN has proven to be incredib ly effective at certain tasks in machine \\nlearning.  \\n  The KNN algorithm is simple to understand, easy to explain and perfect to demonstrate to a \\nnon-technical audience (that ’s why stakeholders love it!). That ’s a key reason why it ’s widely \\nused in the indus try and why you should know how the algorithm works.  \\nBusiness Analyst  \\n1. Introduction to Business Analytics  \\nAbout Introduction to Business Analytics  \\nGetting Started with Business Analytics  \\nWhat is  Business Analytics? Why has it become so popular recently? What are some of the \\npopular applications of Business Analytics? And more importantly, how can you get started with \\nlearning Business Analytics from scratch?  \\nWith growth in digitisation, Business Analytics is ubiquitous right now. Organizations are \\nsplurging to integrate data science solutions in their daily processes. This is where they need \\nBusiness Analysts.  \\nWhy pursue Business Analytics:  \\n\\uf0b7 Data is ubiquitous! Organizations need people who can use  Business Analytics tools and \\ntechniques to make sense of this data.   \\n\\uf0b7 It is one of the hottest field in the industry right now  \\n\\uf0b7 There are so many Business Analytics tools and techniques which can be applied to solve \\nbusiness problems. Keep learning, keep gr owing!  \\n\\uf0b7 The potential of Business Analytics is limitless - spanning across industries, roles and \\nfunctions  \\n2. Microsoft Excel: Formulas & Functions  \\nWho is the Microsoft Excel: Formulas and Functions Course for?  \\nThis course is for anyone who:  \\n\\uf0b7 Wants to learn Microsoft Excel  \\n\\uf0b7 Wants to brush up their Excel skills, from beginner to intermediate  \\n\\uf0b7 Is looking to master Excel formulas and functions from basic to advanced  \\uf0b7 Wants to get started with data analysis  \\n\\uf0b7 Is looking to start their business analytics or data scienc e journey  \\n\\uf0b7 You’ll find people at all levels in organizations pouring over Excel spreadsheets, from data \\nanalysts and business analysts to C -suite executives and data scientists.  \\n\\uf0b7 The one thing that has separated Excel from all other tools is the incredibly i n-depth nature \\nof the formulas and functions it offers. From arithmetic to logical functions, from Date and \\nTime to Text functions, and of course, the marvellous LookUp functions (VLookUp and \\nHLookUp) - you’ll need to have these handy when you’re working o n real -world analytics \\nprojects.  \\nTools For Data Science  \\n1. Introduction to PyTorch for Deep \\nLearning  \\nPyTorch for Deep Learning - A Game Changing Deep Learning Framework  \\nWelcome to the world of PyTorch  - a deep learning framework that has changed and re -\\nimagined the way we build deep learning models.  \\n  \\nPyTorch was recently voted as the favorite deep learning framework among researchers. It has \\nleft TensorFlow behind and continues to be the deep learning  framework of choice for many \\nexperts and practitioners.  \\n  \\nPyTorch is super flexible and is quite easy to grasp, even for deep learning beginners. If you \\nwork on deep learning and computer vision projects, you ’ll love working with PyTorch.  \\n2. Introduction to Python  \\n Why Python and how popular is it for Data Science?  \\n\\uf0b7 Python has rapidly become the go -to language in the data science space and is among \\nthe first things recruiters search for in a data scientist\\'s skill set.  \\n\\uf0b7 It consistently ranks top in global da ta science surveys and its widespread popularity will \\nonly keep on increasing in the coming years.  \\uf0b7 Over the years, with strong community support, this language has obtained a dedicated \\nlibrary for data analysis and predictive modelling.  \\n \\n \\nThis python data science course will help you learn Python libraries like Pandas and use them \\nefficiently for data science and data analysis. Are you ready to power up your career and learn \\nthe best data science language?  \\n3. Pandas for Data Analysis in Python  \\nLearn Pandas - The Most Popular and Useful Python Library for Data Science  \\nPandas is one of the most popular Python libraries in data science. In fact, Pandas is among \\nthose elite libraries that draw instant recognition from programmers of all backgrounds, from \\ndevelop ers to data scientists.  \\nAccording to a recent survey by StackOverflow, Pandas is the 4th most used library/framework \\nin the world. That is quite an achievement!  \\nPandas is the first library we import when we fire up our Jupyter notebooks (‘import pandas as \\npd’ is indelibly etched in our minds!). It is a super flexible tool that enables us to perform data \\nanalysis and data manipulation on Pandas dataframes in double -quick time.  \\n4. Tableau for Beginners  \\nGet Started with Tableau for Data Visualization, Analytic s and Business Intelligence  \\nTableau is the gold standard in business intelligence, analytics and data visualization tools. \\nTableau Desktop (and now Tableau Public) have transformed the way we interact with \\nvisualizations and tell data stories to our client s, stakeholders, and to non -technical audiences \\naround the world.  \\nTableau has been recognized as a Leader in the Gartner Magic Quadrant for Analytics and \\nBusiness Intelligence Platforms for 8 straight years. Here ’s Gartner ’s most recent ranking in \\n2020:  \\nDo you need to know programming to learn Tableau?  \\nNot at all. Tableau thrives as a drag -and-drop tool (for the most part). That ’s the beauty of \\nTableau to be honest, you can quickly get started and build awesome visualizations without \\nhaving to get into any coding or programming.  But knowing simple Excel formulas, such as IF -ELSE, will help you with feature engineering in \\nTableau. And that is a critical part of a business intelligence analysts skillset.  \\n  \\nWhat kind of projects can you perform using Tableau?  \\nYou can take up all sorts of analytics projects next. We suggest heading over to the  DataHack \\nplatform  and picking up any project that catches your interest. Load the dataset into Tableau \\nand get going!  \\n5. Convolutional Neural Networks (CNN) \\nfrom Scratch  \\nLearn about Convolutional Neural Networks (CNN) from Scratch  \\nConvolutional Neural Networks, or CNN as they ’re popularly called, are the go -to deep learning \\narchitecture for computer vision tasks, such as object detection, image segmentation, facial \\nrecognition, among others. CNNs have even been extended to the field of video analysis!  \\nIf you are picking one deep learning architecture to learn and are not sure where to start, you \\nshould go for convolutional  neural networks. Deep learning enthusiasts and experts with CNN \\nknowledge are being widely sourced in the industry.  \\nIt’s your time to use this CNN skillset and shine!  \\n \\n \\n \\n \\n2. Improving Real World RAG S gg \\n \\n ')"
      ]
     },
     "execution_count": 37,
     "metadata": {},
     "output_type": "execute_result"
    }
   ],
   "source": [
    "document"
   ]
  },
  {
   "cell_type": "code",
   "execution_count": 42,
   "metadata": {},
   "outputs": [
    {
     "name": "stdout",
     "output_type": "stream",
     "text": [
      "Here's a list of all the machine learning (ML) related courses mentioned in the provided text:\n",
      "\n",
      "* **Machine Learning Summer Training:** An online program to build and enhance programming and machine learning skills.\n",
      "* **The A to Z of Unsupervised ML:** Covers unsupervised machine learning techniques.\n",
      "* **Machine Learning Certification Course for Beginners:** Introduces machine learning concepts and techniques.\n",
      "* **Loan Prediction Practice Problem (Using Python):**  A course focused on solving binary classification problems using a real-life case study.\n",
      "* **Twitter Sentiment Analysis:**  A project-based course applying machine learning to sentiment analysis.\n",
      "* **Ensemble Learning and Ensemble Learning Techniques:** A comprehensive course on ensemble learning methods.\n",
      "* **K-Nearest Neighbors (KNN) Algorithm in Python and R:** Teaches the KNN algorithm in machine learning.\n",
      "* **Improving Real World RAG Systems:** While not strictly ML, this course involves improving Retrieval-Augmented Generation (RAG) systems which heavily leverage machine learning models.  \n",
      "\n",
      "\n",
      "Please note that some courses, like \"Framework to Choose the Right LLM for your Business,\"  deal with Large Language Models (LLMs), which are a subset of machine learning, but are not solely focused on general ML techniques.  Similarly, courses on NLP and Computer Vision often use ML techniques but are not exclusively ML courses.\n",
      "\n"
     ]
    }
   ],
   "source": [
    "chat_model = ChatGoogleGenerativeAI(model=\"gemini-1.5-flash\")\n",
    "\n",
    "# Step 6: Set up Langchain QA pipeline with Google's generative AI model\n",
    "qa_chain = load_qa_chain(chat_model, chain_type=\"stuff\")\n",
    "\n",
    "# Step 7: Define the question and query the model\n",
    "question = \"ALL ml courses\"\n",
    "response = qa_chain.run(input_documents=[document], question=question)\n",
    "\n",
    "# Step 8: Print the response\n",
    "print(response)"
   ]
  },
  {
   "cell_type": "code",
   "execution_count": 45,
   "metadata": {},
   "outputs": [
    {
     "name": "stdout",
     "output_type": "stream",
     "text": [
      "Based on the provided text, here are some tools mentioned in the data science courses, along with brief descriptions:\n",
      "\n",
      "* **Python:** A widely used programming language in data science, known for its readability and extensive libraries for data analysis and machine learning.\n",
      "\n",
      "* **PyTorch:** A popular deep learning framework used for building and training neural networks, particularly favored for its flexibility and ease of use.\n",
      "\n",
      "* **Pandas:** A Python library crucial for data manipulation and analysis.  It provides data structures like DataFrames for efficient data handling.\n",
      "\n",
      "* **Tableau:** A leading business intelligence and data visualization tool. It allows users to create interactive dashboards and visualizations without extensive coding.\n",
      "\n",
      "* **Microsoft Excel:** A spreadsheet program widely used for data analysis, especially for simpler tasks and initial data exploration.  It includes a variety of formulas and functions for data manipulation.\n",
      "\n",
      "* **LlamaIndex:** A framework for building Retrieval-Augmented Generation (RAG) systems, which combine large language models with external knowledge retrieval.\n",
      "\n",
      "\n",
      "The courses also mention using various machine learning algorithms (like Decision Trees, K-Nearest Neighbors, and ensemble methods) and techniques within these tools, but these are not tools themselves in the same way as the above list.\n",
      "\n"
     ]
    }
   ],
   "source": [
    "question = \"ALL tools in data science courses, also give brief description about it\"\n",
    "response = qa_chain.run(input_documents=[document], question=question)\n",
    "\n",
    "# Step 8: Print the response\n",
    "print(response)"
   ]
  },
  {
   "cell_type": "code",
   "execution_count": null,
   "metadata": {},
   "outputs": [],
   "source": []
  }
 ],
 "metadata": {
  "kernelspec": {
   "display_name": "Python 3",
   "language": "python",
   "name": "python3"
  },
  "language_info": {
   "codemirror_mode": {
    "name": "ipython",
    "version": 3
   },
   "file_extension": ".py",
   "mimetype": "text/x-python",
   "name": "python",
   "nbconvert_exporter": "python",
   "pygments_lexer": "ipython3",
   "version": "3.10.5"
  }
 },
 "nbformat": 4,
 "nbformat_minor": 2
}
